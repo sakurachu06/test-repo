{
  "cells": [
    {
      "cell_type": "code",
      "execution_count": null,
      "metadata": {
        "colab": {
          "base_uri": "https://localhost:8080/",
          "height": 1000
        },
        "id": "vov5ncZuMAsg",
        "outputId": "f85a4bb7-3661-45b9-8e10-174610f5ed1d"
      },
      "outputs": [
        {
          "name": "stdout",
          "output_type": "stream",
          "text": [
            "Looking in indexes: https://pypi.org/simple, https://us-python.pkg.dev/colab-wheels/public/simple/\n",
            "Requirement already satisfied: pip in /usr/local/lib/python3.10/dist-packages (23.1.2)\n",
            "Requirement already satisfied: wheel in /usr/local/lib/python3.10/dist-packages (0.40.0)\n",
            "Requirement already satisfied: setuptools in /usr/local/lib/python3.10/dist-packages (65.6.3)\n",
            "Collecting setuptools\n",
            "  Using cached setuptools-67.8.0-py3-none-any.whl (1.1 MB)\n",
            "Installing collected packages: setuptools\n",
            "  Attempting uninstall: setuptools\n",
            "    Found existing installation: setuptools 65.6.3\n",
            "    Uninstalling setuptools-65.6.3:\n",
            "      Successfully uninstalled setuptools-65.6.3\n",
            "\u001b[31mERROR: pip's dependency resolver does not currently take into account all the packages that are installed. This behaviour is the source of the following dependency conflicts.\n",
            "ipython 7.34.0 requires jedi>=0.16, which is not installed.\n",
            "concrete-ml 1.0.3 requires setuptools==65.6.3, but you have setuptools 67.8.0 which is incompatible.\n",
            "torchaudio 2.0.2+cu118 requires torch==2.0.1, but you have torch 1.13.1 which is incompatible.\n",
            "torchdata 0.6.1 requires torch==2.0.1, but you have torch 1.13.1 which is incompatible.\n",
            "torchtext 0.15.2 requires torch==2.0.1, but you have torch 1.13.1 which is incompatible.\n",
            "torchvision 0.15.2+cu118 requires torch==2.0.1, but you have torch 1.13.1 which is incompatible.\u001b[0m\u001b[31m\n",
            "\u001b[0mSuccessfully installed setuptools-67.8.0\n"
          ]
        },
        {
          "data": {
            "application/vnd.colab-display-data+json": {
              "pip_warning": {
                "packages": [
                  "_distutils_hack",
                  "pkg_resources",
                  "setuptools"
                ]
              }
            }
          },
          "metadata": {},
          "output_type": "display_data"
        },
        {
          "name": "stdout",
          "output_type": "stream",
          "text": [
            "Looking in indexes: https://pypi.org/simple, https://us-python.pkg.dev/colab-wheels/public/simple/\n",
            "Requirement already satisfied: concrete-ml in /usr/local/lib/python3.10/dist-packages (1.0.3)\n",
            "Requirement already satisfied: boto3<2.0.0,>=1.23.5 in /usr/local/lib/python3.10/dist-packages (from concrete-ml) (1.26.153)\n",
            "Requirement already satisfied: brevitas==0.8.0 in /usr/local/lib/python3.10/dist-packages (from concrete-ml) (0.8.0)\n",
            "Requirement already satisfied: concrete-python==1.0.0 in /usr/local/lib/python3.10/dist-packages (from concrete-ml) (1.0.0)\n",
            "Requirement already satisfied: fastapi<0.94.0,>=0.93.0 in /usr/local/lib/python3.10/dist-packages (from concrete-ml) (0.93.0)\n",
            "Requirement already satisfied: hummingbird-ml[onnx]==0.4.8 in /usr/local/lib/python3.10/dist-packages (from concrete-ml) (0.4.8)\n",
            "Requirement already satisfied: numpy==1.23.5 in /usr/local/lib/python3.10/dist-packages (from concrete-ml) (1.23.5)\n",
            "Requirement already satisfied: onnx==1.13.1 in /usr/local/lib/python3.10/dist-packages (from concrete-ml) (1.13.1)\n",
            "Requirement already satisfied: onnxoptimizer==0.3.10 in /usr/local/lib/python3.10/dist-packages (from concrete-ml) (0.3.10)\n",
            "Requirement already satisfied: onnxruntime==1.13.1 in /usr/local/lib/python3.10/dist-packages (from concrete-ml) (1.13.1)\n",
            "Requirement already satisfied: protobuf==3.20.3 in /usr/local/lib/python3.10/dist-packages (from concrete-ml) (3.20.3)\n",
            "Requirement already satisfied: python-multipart<0.0.7,>=0.0.6 in /usr/local/lib/python3.10/dist-packages (from concrete-ml) (0.0.6)\n",
            "Requirement already satisfied: scikit-learn==1.1.3 in /usr/local/lib/python3.10/dist-packages (from concrete-ml) (1.1.3)\n",
            "Requirement already satisfied: scipy==1.10.1 in /usr/local/lib/python3.10/dist-packages (from concrete-ml) (1.10.1)\n",
            "Collecting setuptools==65.6.3 (from concrete-ml)\n",
            "  Using cached setuptools-65.6.3-py3-none-any.whl (1.2 MB)\n",
            "Requirement already satisfied: skops==0.5.0 in /usr/local/lib/python3.10/dist-packages (from concrete-ml) (0.5.0)\n",
            "Requirement already satisfied: skorch==0.11.0 in /usr/local/lib/python3.10/dist-packages (from concrete-ml) (0.11.0)\n",
            "Requirement already satisfied: torch==1.13.1 in /usr/local/lib/python3.10/dist-packages (from concrete-ml) (1.13.1)\n",
            "Requirement already satisfied: tqdm<5.0.0,>=4.64.1 in /usr/local/lib/python3.10/dist-packages (from concrete-ml) (4.65.0)\n",
            "Requirement already satisfied: typing-extensions==4.4.0 in /usr/local/lib/python3.10/dist-packages (from concrete-ml) (4.4.0)\n",
            "Requirement already satisfied: uvicorn<0.22.0,>=0.21.0 in /usr/local/lib/python3.10/dist-packages (from concrete-ml) (0.21.1)\n",
            "Requirement already satisfied: xgboost==1.6.2 in /usr/local/lib/python3.10/dist-packages (from concrete-ml) (1.6.2)\n",
            "Requirement already satisfied: packaging in /usr/local/lib/python3.10/dist-packages (from brevitas==0.8.0->concrete-ml) (23.1)\n",
            "Requirement already satisfied: dependencies==2.0.1 in /usr/local/lib/python3.10/dist-packages (from brevitas==0.8.0->concrete-ml) (2.0.1)\n",
            "Requirement already satisfied: networkx>=2.6 in /usr/local/lib/python3.10/dist-packages (from concrete-python==1.0.0->concrete-ml) (3.1)\n",
            "Requirement already satisfied: dill in /usr/local/lib/python3.10/dist-packages (from hummingbird-ml[onnx]==0.4.8->concrete-ml) (0.3.6)\n",
            "Requirement already satisfied: onnxconverter-common>=1.6.0 in /usr/local/lib/python3.10/dist-packages (from hummingbird-ml[onnx]==0.4.8->concrete-ml) (1.13.0)\n",
            "Requirement already satisfied: psutil in /usr/local/lib/python3.10/dist-packages (from hummingbird-ml[onnx]==0.4.8->concrete-ml) (5.9.5)\n",
            "Requirement already satisfied: onnxmltools<=1.11.0,>=1.6.0 in /usr/local/lib/python3.10/dist-packages (from hummingbird-ml[onnx]==0.4.8->concrete-ml) (1.11.0)\n",
            "Requirement already satisfied: skl2onnx<=1.12.0,>=1.7.0 in /usr/local/lib/python3.10/dist-packages (from hummingbird-ml[onnx]==0.4.8->concrete-ml) (1.12)\n",
            "Requirement already satisfied: coloredlogs in /usr/local/lib/python3.10/dist-packages (from onnxruntime==1.13.1->concrete-ml) (15.0.1)\n",
            "Requirement already satisfied: flatbuffers in /usr/local/lib/python3.10/dist-packages (from onnxruntime==1.13.1->concrete-ml) (23.3.3)\n",
            "Requirement already satisfied: sympy in /usr/local/lib/python3.10/dist-packages (from onnxruntime==1.13.1->concrete-ml) (1.11.1)\n",
            "Requirement already satisfied: joblib>=1.0.0 in /usr/local/lib/python3.10/dist-packages (from scikit-learn==1.1.3->concrete-ml) (1.2.0)\n",
            "Requirement already satisfied: threadpoolctl>=2.0.0 in /usr/local/lib/python3.10/dist-packages (from scikit-learn==1.1.3->concrete-ml) (3.1.0)\n",
            "Requirement already satisfied: huggingface-hub>=0.10.1 in /usr/local/lib/python3.10/dist-packages (from skops==0.5.0->concrete-ml) (0.15.1)\n",
            "Requirement already satisfied: tabulate>=0.8.8 in /usr/local/lib/python3.10/dist-packages (from skops==0.5.0->concrete-ml) (0.8.10)\n",
            "Requirement already satisfied: nvidia-cuda-runtime-cu11==11.7.99 in /usr/local/lib/python3.10/dist-packages (from torch==1.13.1->concrete-ml) (11.7.99)\n",
            "Requirement already satisfied: nvidia-cudnn-cu11==8.5.0.96 in /usr/local/lib/python3.10/dist-packages (from torch==1.13.1->concrete-ml) (8.5.0.96)\n",
            "Requirement already satisfied: nvidia-cublas-cu11==11.10.3.66 in /usr/local/lib/python3.10/dist-packages (from torch==1.13.1->concrete-ml) (11.10.3.66)\n",
            "Requirement already satisfied: nvidia-cuda-nvrtc-cu11==11.7.99 in /usr/local/lib/python3.10/dist-packages (from torch==1.13.1->concrete-ml) (11.7.99)\n",
            "Requirement already satisfied: wheel in /usr/local/lib/python3.10/dist-packages (from nvidia-cublas-cu11==11.10.3.66->torch==1.13.1->concrete-ml) (0.40.0)\n",
            "Requirement already satisfied: botocore<1.30.0,>=1.29.153 in /usr/local/lib/python3.10/dist-packages (from boto3<2.0.0,>=1.23.5->concrete-ml) (1.29.153)\n",
            "Requirement already satisfied: jmespath<2.0.0,>=0.7.1 in /usr/local/lib/python3.10/dist-packages (from boto3<2.0.0,>=1.23.5->concrete-ml) (1.0.1)\n",
            "Requirement already satisfied: s3transfer<0.7.0,>=0.6.0 in /usr/local/lib/python3.10/dist-packages (from boto3<2.0.0,>=1.23.5->concrete-ml) (0.6.1)\n",
            "Requirement already satisfied: pydantic!=1.7,!=1.7.1,!=1.7.2,!=1.7.3,!=1.8,!=1.8.1,<2.0.0,>=1.6.2 in /usr/local/lib/python3.10/dist-packages (from fastapi<0.94.0,>=0.93.0->concrete-ml) (1.10.7)\n",
            "Requirement already satisfied: starlette<0.26.0,>=0.25.0 in /usr/local/lib/python3.10/dist-packages (from fastapi<0.94.0,>=0.93.0->concrete-ml) (0.25.0)\n",
            "Requirement already satisfied: click>=7.0 in /usr/local/lib/python3.10/dist-packages (from uvicorn<0.22.0,>=0.21.0->concrete-ml) (8.1.3)\n",
            "Requirement already satisfied: h11>=0.8 in /usr/local/lib/python3.10/dist-packages (from uvicorn<0.22.0,>=0.21.0->concrete-ml) (0.14.0)\n",
            "Requirement already satisfied: python-dateutil<3.0.0,>=2.1 in /usr/local/lib/python3.10/dist-packages (from botocore<1.30.0,>=1.29.153->boto3<2.0.0,>=1.23.5->concrete-ml) (2.8.2)\n",
            "Requirement already satisfied: urllib3<1.27,>=1.25.4 in /usr/local/lib/python3.10/dist-packages (from botocore<1.30.0,>=1.29.153->boto3<2.0.0,>=1.23.5->concrete-ml) (1.26.15)\n",
            "Requirement already satisfied: filelock in /usr/local/lib/python3.10/dist-packages (from huggingface-hub>=0.10.1->skops==0.5.0->concrete-ml) (3.12.0)\n",
            "Requirement already satisfied: fsspec in /usr/local/lib/python3.10/dist-packages (from huggingface-hub>=0.10.1->skops==0.5.0->concrete-ml) (2023.4.0)\n",
            "Requirement already satisfied: requests in /usr/local/lib/python3.10/dist-packages (from huggingface-hub>=0.10.1->skops==0.5.0->concrete-ml) (2.27.1)\n",
            "Requirement already satisfied: pyyaml>=5.1 in /usr/local/lib/python3.10/dist-packages (from huggingface-hub>=0.10.1->skops==0.5.0->concrete-ml) (6.0)\n",
            "Requirement already satisfied: anyio<5,>=3.4.0 in /usr/local/lib/python3.10/dist-packages (from starlette<0.26.0,>=0.25.0->fastapi<0.94.0,>=0.93.0->concrete-ml) (3.6.2)\n",
            "Requirement already satisfied: humanfriendly>=9.1 in /usr/local/lib/python3.10/dist-packages (from coloredlogs->onnxruntime==1.13.1->concrete-ml) (10.0)\n",
            "Requirement already satisfied: mpmath>=0.19 in /usr/local/lib/python3.10/dist-packages (from sympy->onnxruntime==1.13.1->concrete-ml) (1.3.0)\n",
            "Requirement already satisfied: idna>=2.8 in /usr/local/lib/python3.10/dist-packages (from anyio<5,>=3.4.0->starlette<0.26.0,>=0.25.0->fastapi<0.94.0,>=0.93.0->concrete-ml) (3.4)\n",
            "Requirement already satisfied: sniffio>=1.1 in /usr/local/lib/python3.10/dist-packages (from anyio<5,>=3.4.0->starlette<0.26.0,>=0.25.0->fastapi<0.94.0,>=0.93.0->concrete-ml) (1.3.0)\n",
            "Requirement already satisfied: six>=1.5 in /usr/local/lib/python3.10/dist-packages (from python-dateutil<3.0.0,>=2.1->botocore<1.30.0,>=1.29.153->boto3<2.0.0,>=1.23.5->concrete-ml) (1.16.0)\n",
            "Requirement already satisfied: certifi>=2017.4.17 in /usr/local/lib/python3.10/dist-packages (from requests->huggingface-hub>=0.10.1->skops==0.5.0->concrete-ml) (2022.12.7)\n",
            "Requirement already satisfied: charset-normalizer~=2.0.0 in /usr/local/lib/python3.10/dist-packages (from requests->huggingface-hub>=0.10.1->skops==0.5.0->concrete-ml) (2.0.12)\n",
            "Installing collected packages: setuptools\n",
            "  Attempting uninstall: setuptools\n",
            "    Found existing installation: setuptools 67.8.0\n",
            "    Uninstalling setuptools-67.8.0:\n",
            "      Successfully uninstalled setuptools-67.8.0\n",
            "\u001b[31mERROR: pip's dependency resolver does not currently take into account all the packages that are installed. This behaviour is the source of the following dependency conflicts.\n",
            "ipython 7.34.0 requires jedi>=0.16, which is not installed.\n",
            "torchaudio 2.0.2+cu118 requires torch==2.0.1, but you have torch 1.13.1 which is incompatible.\n",
            "torchdata 0.6.1 requires torch==2.0.1, but you have torch 1.13.1 which is incompatible.\n",
            "torchtext 0.15.2 requires torch==2.0.1, but you have torch 1.13.1 which is incompatible.\n",
            "torchvision 0.15.2+cu118 requires torch==2.0.1, but you have torch 1.13.1 which is incompatible.\u001b[0m\u001b[31m\n",
            "\u001b[0mSuccessfully installed setuptools-65.6.3\n"
          ]
        },
        {
          "data": {
            "application/vnd.colab-display-data+json": {
              "pip_warning": {
                "packages": [
                  "_distutils_hack",
                  "pkg_resources",
                  "setuptools"
                ]
              }
            }
          },
          "metadata": {},
          "output_type": "display_data"
        }
      ],
      "source": [
        "!pip install -U pip wheel setuptools\n",
        "!pip install concrete-ml"
      ]
    },
    {
      "cell_type": "code",
      "execution_count": null,
      "metadata": {
        "colab": {
          "base_uri": "https://localhost:8080/"
        },
        "id": "8xF9vrKaMJZB",
        "outputId": "21755c6e-503f-480a-bd2e-cd0f61cfaba1"
      },
      "outputs": [
        {
          "name": "stdout",
          "output_type": "stream",
          "text": [
            "Drive already mounted at /content/gdrive; to attempt to forcibly remount, call drive.mount(\"/content/gdrive\", force_remount=True).\n"
          ]
        }
      ],
      "source": [
        "from google.colab import drive\n",
        "drive.mount('/content/gdrive')"
      ]
    },
    {
      "cell_type": "code",
      "execution_count": null,
      "metadata": {
        "colab": {
          "base_uri": "https://localhost:8080/"
        },
        "id": "U-jgjGHpMNMg",
        "outputId": "4e323cf6-dee1-4aac-b7b2-af48f931b28b"
      },
      "outputs": [
        {
          "name": "stderr",
          "output_type": "stream",
          "text": [
            "No CUDA runtime is found, using CUDA_HOME='/usr/local/cuda'\n"
          ]
        }
      ],
      "source": [
        "from sklearn.model_selection import train_test_split\n",
        "from sklearn import preprocessing\n",
        "\n",
        "from sklearn.metrics import accuracy_score\n",
        "from sklearn.metrics import balanced_accuracy_score\n",
        "from sklearn.metrics import f1_score\n",
        "\n",
        "from concrete.ml.sklearn import LogisticRegression\n",
        "from sklearn.linear_model import LogisticRegression as skLR\n",
        "\n",
        "import time\n",
        "import pandas as pd\n",
        "import numpy as np\n",
        "from numpy import mean\n",
        "from numpy import std\n"
      ]
    },
    {
      "cell_type": "code",
      "execution_count": null,
      "metadata": {
        "colab": {
          "base_uri": "https://localhost:8080/",
          "height": 314
        },
        "id": "j4aUP_mNMQBY",
        "outputId": "b03ef2c4-32e4-4c60-fbd7-1a5a2802ed42"
      },
      "outputs": [
        {
          "data": {
            "text/html": [
              "\n",
              "  <div id=\"df-12863362-26db-43c3-979d-83eea118e1db\">\n",
              "    <div class=\"colab-df-container\">\n",
              "      <div>\n",
              "<style scoped>\n",
              "    .dataframe tbody tr th:only-of-type {\n",
              "        vertical-align: middle;\n",
              "    }\n",
              "\n",
              "    .dataframe tbody tr th {\n",
              "        vertical-align: top;\n",
              "    }\n",
              "\n",
              "    .dataframe thead th {\n",
              "        text-align: right;\n",
              "    }\n",
              "</style>\n",
              "<table border=\"1\" class=\"dataframe\">\n",
              "  <thead>\n",
              "    <tr style=\"text-align: right;\">\n",
              "      <th></th>\n",
              "      <th>samples</th>\n",
              "      <th>type</th>\n",
              "      <th>1007_s_at</th>\n",
              "      <th>1053_at</th>\n",
              "      <th>117_at</th>\n",
              "      <th>121_at</th>\n",
              "      <th>1255_g_at</th>\n",
              "      <th>1294_at</th>\n",
              "      <th>1316_at</th>\n",
              "      <th>1320_at</th>\n",
              "      <th>...</th>\n",
              "      <th>AFFX-r2-Ec-bioD-3_at</th>\n",
              "      <th>AFFX-r2-Ec-bioD-5_at</th>\n",
              "      <th>AFFX-r2-P1-cre-3_at</th>\n",
              "      <th>AFFX-r2-P1-cre-5_at</th>\n",
              "      <th>AFFX-ThrX-3_at</th>\n",
              "      <th>AFFX-ThrX-5_at</th>\n",
              "      <th>AFFX-ThrX-M_at</th>\n",
              "      <th>AFFX-TrpnX-3_at</th>\n",
              "      <th>AFFX-TrpnX-5_at</th>\n",
              "      <th>AFFX-TrpnX-M_at</th>\n",
              "    </tr>\n",
              "  </thead>\n",
              "  <tbody>\n",
              "    <tr>\n",
              "      <th>0</th>\n",
              "      <td>834</td>\n",
              "      <td>ependymoma</td>\n",
              "      <td>12.498150</td>\n",
              "      <td>7.604868</td>\n",
              "      <td>6.880934</td>\n",
              "      <td>9.027128</td>\n",
              "      <td>4.176175</td>\n",
              "      <td>7.224920</td>\n",
              "      <td>6.085942</td>\n",
              "      <td>6.835999</td>\n",
              "      <td>...</td>\n",
              "      <td>9.979005</td>\n",
              "      <td>9.926470</td>\n",
              "      <td>12.719785</td>\n",
              "      <td>12.777792</td>\n",
              "      <td>5.403657</td>\n",
              "      <td>4.870548</td>\n",
              "      <td>4.047380</td>\n",
              "      <td>3.721936</td>\n",
              "      <td>4.516434</td>\n",
              "      <td>4.749940</td>\n",
              "    </tr>\n",
              "    <tr>\n",
              "      <th>1</th>\n",
              "      <td>835</td>\n",
              "      <td>ependymoma</td>\n",
              "      <td>13.067436</td>\n",
              "      <td>7.998090</td>\n",
              "      <td>7.209076</td>\n",
              "      <td>9.723322</td>\n",
              "      <td>4.826126</td>\n",
              "      <td>7.539381</td>\n",
              "      <td>6.250962</td>\n",
              "      <td>8.012549</td>\n",
              "      <td>...</td>\n",
              "      <td>11.924749</td>\n",
              "      <td>11.215930</td>\n",
              "      <td>13.605662</td>\n",
              "      <td>13.401342</td>\n",
              "      <td>5.224555</td>\n",
              "      <td>4.895315</td>\n",
              "      <td>3.786437</td>\n",
              "      <td>3.564481</td>\n",
              "      <td>4.430891</td>\n",
              "      <td>4.491416</td>\n",
              "    </tr>\n",
              "    <tr>\n",
              "      <th>2</th>\n",
              "      <td>836</td>\n",
              "      <td>ependymoma</td>\n",
              "      <td>13.068179</td>\n",
              "      <td>8.573674</td>\n",
              "      <td>8.647684</td>\n",
              "      <td>9.613002</td>\n",
              "      <td>4.396581</td>\n",
              "      <td>7.813101</td>\n",
              "      <td>6.007746</td>\n",
              "      <td>7.178156</td>\n",
              "      <td>...</td>\n",
              "      <td>12.154405</td>\n",
              "      <td>11.532460</td>\n",
              "      <td>13.764593</td>\n",
              "      <td>13.477800</td>\n",
              "      <td>5.303565</td>\n",
              "      <td>5.052184</td>\n",
              "      <td>4.005343</td>\n",
              "      <td>3.595382</td>\n",
              "      <td>4.563494</td>\n",
              "      <td>4.668827</td>\n",
              "    </tr>\n",
              "    <tr>\n",
              "      <th>3</th>\n",
              "      <td>837</td>\n",
              "      <td>ependymoma</td>\n",
              "      <td>12.456040</td>\n",
              "      <td>9.098977</td>\n",
              "      <td>6.628784</td>\n",
              "      <td>8.517677</td>\n",
              "      <td>4.154847</td>\n",
              "      <td>8.361843</td>\n",
              "      <td>6.596064</td>\n",
              "      <td>6.347285</td>\n",
              "      <td>...</td>\n",
              "      <td>11.969072</td>\n",
              "      <td>11.288801</td>\n",
              "      <td>13.600828</td>\n",
              "      <td>13.379029</td>\n",
              "      <td>4.953429</td>\n",
              "      <td>4.708371</td>\n",
              "      <td>3.892318</td>\n",
              "      <td>3.759429</td>\n",
              "      <td>4.748381</td>\n",
              "      <td>4.521275</td>\n",
              "    </tr>\n",
              "    <tr>\n",
              "      <th>4</th>\n",
              "      <td>838</td>\n",
              "      <td>ependymoma</td>\n",
              "      <td>12.699958</td>\n",
              "      <td>8.800721</td>\n",
              "      <td>11.556188</td>\n",
              "      <td>9.166309</td>\n",
              "      <td>4.165891</td>\n",
              "      <td>7.923826</td>\n",
              "      <td>6.212754</td>\n",
              "      <td>6.866387</td>\n",
              "      <td>...</td>\n",
              "      <td>11.411701</td>\n",
              "      <td>11.169317</td>\n",
              "      <td>13.751442</td>\n",
              "      <td>13.803646</td>\n",
              "      <td>4.892677</td>\n",
              "      <td>4.773806</td>\n",
              "      <td>3.796856</td>\n",
              "      <td>3.577544</td>\n",
              "      <td>4.504385</td>\n",
              "      <td>4.541450</td>\n",
              "    </tr>\n",
              "  </tbody>\n",
              "</table>\n",
              "<p>5 rows × 54677 columns</p>\n",
              "</div>\n",
              "      <button class=\"colab-df-convert\" onclick=\"convertToInteractive('df-12863362-26db-43c3-979d-83eea118e1db')\"\n",
              "              title=\"Convert this dataframe to an interactive table.\"\n",
              "              style=\"display:none;\">\n",
              "        \n",
              "  <svg xmlns=\"http://www.w3.org/2000/svg\" height=\"24px\"viewBox=\"0 0 24 24\"\n",
              "       width=\"24px\">\n",
              "    <path d=\"M0 0h24v24H0V0z\" fill=\"none\"/>\n",
              "    <path d=\"M18.56 5.44l.94 2.06.94-2.06 2.06-.94-2.06-.94-.94-2.06-.94 2.06-2.06.94zm-11 1L8.5 8.5l.94-2.06 2.06-.94-2.06-.94L8.5 2.5l-.94 2.06-2.06.94zm10 10l.94 2.06.94-2.06 2.06-.94-2.06-.94-.94-2.06-.94 2.06-2.06.94z\"/><path d=\"M17.41 7.96l-1.37-1.37c-.4-.4-.92-.59-1.43-.59-.52 0-1.04.2-1.43.59L10.3 9.45l-7.72 7.72c-.78.78-.78 2.05 0 2.83L4 21.41c.39.39.9.59 1.41.59.51 0 1.02-.2 1.41-.59l7.78-7.78 2.81-2.81c.8-.78.8-2.07 0-2.86zM5.41 20L4 18.59l7.72-7.72 1.47 1.35L5.41 20z\"/>\n",
              "  </svg>\n",
              "      </button>\n",
              "      \n",
              "  <style>\n",
              "    .colab-df-container {\n",
              "      display:flex;\n",
              "      flex-wrap:wrap;\n",
              "      gap: 12px;\n",
              "    }\n",
              "\n",
              "    .colab-df-convert {\n",
              "      background-color: #E8F0FE;\n",
              "      border: none;\n",
              "      border-radius: 50%;\n",
              "      cursor: pointer;\n",
              "      display: none;\n",
              "      fill: #1967D2;\n",
              "      height: 32px;\n",
              "      padding: 0 0 0 0;\n",
              "      width: 32px;\n",
              "    }\n",
              "\n",
              "    .colab-df-convert:hover {\n",
              "      background-color: #E2EBFA;\n",
              "      box-shadow: 0px 1px 2px rgba(60, 64, 67, 0.3), 0px 1px 3px 1px rgba(60, 64, 67, 0.15);\n",
              "      fill: #174EA6;\n",
              "    }\n",
              "\n",
              "    [theme=dark] .colab-df-convert {\n",
              "      background-color: #3B4455;\n",
              "      fill: #D2E3FC;\n",
              "    }\n",
              "\n",
              "    [theme=dark] .colab-df-convert:hover {\n",
              "      background-color: #434B5C;\n",
              "      box-shadow: 0px 1px 3px 1px rgba(0, 0, 0, 0.15);\n",
              "      filter: drop-shadow(0px 1px 2px rgba(0, 0, 0, 0.3));\n",
              "      fill: #FFFFFF;\n",
              "    }\n",
              "  </style>\n",
              "\n",
              "      <script>\n",
              "        const buttonEl =\n",
              "          document.querySelector('#df-12863362-26db-43c3-979d-83eea118e1db button.colab-df-convert');\n",
              "        buttonEl.style.display =\n",
              "          google.colab.kernel.accessAllowed ? 'block' : 'none';\n",
              "\n",
              "        async function convertToInteractive(key) {\n",
              "          const element = document.querySelector('#df-12863362-26db-43c3-979d-83eea118e1db');\n",
              "          const dataTable =\n",
              "            await google.colab.kernel.invokeFunction('convertToInteractive',\n",
              "                                                     [key], {});\n",
              "          if (!dataTable) return;\n",
              "\n",
              "          const docLinkHtml = 'Like what you see? Visit the ' +\n",
              "            '<a target=\"_blank\" href=https://colab.research.google.com/notebooks/data_table.ipynb>data table notebook</a>'\n",
              "            + ' to learn more about interactive tables.';\n",
              "          element.innerHTML = '';\n",
              "          dataTable['output_type'] = 'display_data';\n",
              "          await google.colab.output.renderOutput(dataTable, element);\n",
              "          const docLink = document.createElement('div');\n",
              "          docLink.innerHTML = docLinkHtml;\n",
              "          element.appendChild(docLink);\n",
              "        }\n",
              "      </script>\n",
              "    </div>\n",
              "  </div>\n",
              "  "
            ],
            "text/plain": [
              "   samples        type  1007_s_at   1053_at     117_at    121_at  1255_g_at  \\\n",
              "0      834  ependymoma  12.498150  7.604868   6.880934  9.027128   4.176175   \n",
              "1      835  ependymoma  13.067436  7.998090   7.209076  9.723322   4.826126   \n",
              "2      836  ependymoma  13.068179  8.573674   8.647684  9.613002   4.396581   \n",
              "3      837  ependymoma  12.456040  9.098977   6.628784  8.517677   4.154847   \n",
              "4      838  ependymoma  12.699958  8.800721  11.556188  9.166309   4.165891   \n",
              "\n",
              "    1294_at   1316_at   1320_at  ...  AFFX-r2-Ec-bioD-3_at  \\\n",
              "0  7.224920  6.085942  6.835999  ...              9.979005   \n",
              "1  7.539381  6.250962  8.012549  ...             11.924749   \n",
              "2  7.813101  6.007746  7.178156  ...             12.154405   \n",
              "3  8.361843  6.596064  6.347285  ...             11.969072   \n",
              "4  7.923826  6.212754  6.866387  ...             11.411701   \n",
              "\n",
              "   AFFX-r2-Ec-bioD-5_at  AFFX-r2-P1-cre-3_at  AFFX-r2-P1-cre-5_at  \\\n",
              "0              9.926470            12.719785            12.777792   \n",
              "1             11.215930            13.605662            13.401342   \n",
              "2             11.532460            13.764593            13.477800   \n",
              "3             11.288801            13.600828            13.379029   \n",
              "4             11.169317            13.751442            13.803646   \n",
              "\n",
              "   AFFX-ThrX-3_at  AFFX-ThrX-5_at  AFFX-ThrX-M_at  AFFX-TrpnX-3_at  \\\n",
              "0        5.403657        4.870548        4.047380         3.721936   \n",
              "1        5.224555        4.895315        3.786437         3.564481   \n",
              "2        5.303565        5.052184        4.005343         3.595382   \n",
              "3        4.953429        4.708371        3.892318         3.759429   \n",
              "4        4.892677        4.773806        3.796856         3.577544   \n",
              "\n",
              "   AFFX-TrpnX-5_at  AFFX-TrpnX-M_at  \n",
              "0         4.516434         4.749940  \n",
              "1         4.430891         4.491416  \n",
              "2         4.563494         4.668827  \n",
              "3         4.748381         4.521275  \n",
              "4         4.504385         4.541450  \n",
              "\n",
              "[5 rows x 54677 columns]"
            ]
          },
          "execution_count": 4,
          "metadata": {},
          "output_type": "execute_result"
        }
      ],
      "source": [
        "# Reading the dataset\n",
        "dataset = pd.read_csv(\"gdrive/MyDrive/Special-Problem-Colab/Brain_GSE50161.csv\")\n",
        "dataset.head()"
      ]
    },
    {
      "cell_type": "code",
      "execution_count": null,
      "metadata": {
        "id": "1JLvlSKiMbzT"
      },
      "outputs": [],
      "source": [
        "feature_cols = [c for c in dataset.columns[2:]]\n",
        "x = dataset.loc[:,feature_cols].values #must be floats\n",
        "y = dataset.loc[:,'type'].values #must be integers"
      ]
    },
    {
      "cell_type": "code",
      "execution_count": null,
      "metadata": {
        "colab": {
          "base_uri": "https://localhost:8080/"
        },
        "id": "4VEl8xNsMoKI",
        "outputId": "3fb0855d-05a8-428d-ad69-5ee19410f7f4"
      },
      "outputs": [
        {
          "name": "stdout",
          "output_type": "stream",
          "text": [
            "{'ependymoma': 0, 'glioblastoma': 1, 'medulloblastoma': 2, 'normal': 3, 'pilocytic_astrocytoma': 4}\n"
          ]
        }
      ],
      "source": [
        "# Preprocessing with labels for the lineage\n",
        "le = preprocessing.LabelEncoder()\n",
        "y = le.fit_transform(y)\n",
        "le_mapping = dict(zip(le.classes_, range(len(le.classes_))))\n",
        "print(le_mapping)\n",
        "# print(y)\n",
        "\n",
        "# x = x.astype(float)\n",
        "# print(x)\n",
        "# print(\"done!\", x.shape)"
      ]
    },
    {
      "cell_type": "code",
      "execution_count": null,
      "metadata": {
        "colab": {
          "base_uri": "https://localhost:8080/"
        },
        "id": "CN12bRHzMr-J",
        "outputId": "7d7f0162-aabb-4d28-a1c9-1b1dec5cf6cf"
      },
      "outputs": [
        {
          "name": "stdout",
          "output_type": "stream",
          "text": [
            "\n",
            "Using K best features feature selection...\n",
            "Shape of x before selection:  (130, 54675)\n",
            "Shape of x after selection:  (130, 20)\n",
            "\n",
            " [[10.72479043  7.97994703  4.61166708 ...  4.17375617 10.35812997\n",
            "   3.64268   ]\n",
            " [ 9.34955227  6.45471699  3.91932265 ...  3.60306914  9.2568473\n",
            "   3.57011652]\n",
            " [ 9.63113411  8.07929017  3.90347265 ...  3.67253827  8.8045389\n",
            "   3.66697249]\n",
            " ...\n",
            " [ 5.54149779  4.80014429  3.91737545 ...  4.23060314  5.93035769\n",
            "   3.74996298]\n",
            " [ 5.02986445  3.15203731  4.31564541 ...  3.5515603   5.13432725\n",
            "   3.68967281]\n",
            " [ 4.94076803  4.08426419  3.90425321 ...  3.78264203  5.123375\n",
            "   3.83489158]]\n"
          ]
        }
      ],
      "source": [
        "# Feature Selection\n",
        "\n",
        "from sklearn.feature_selection import SelectKBest, chi2\n",
        "\n",
        "print(\"\\nUsing K best features feature selection...\")\n",
        "print(\"Shape of x before selection: \", x.shape)\n",
        "selector = SelectKBest(chi2, k = 20)\n",
        "x_new = selector.fit_transform(x, y)\n",
        "x = x_new\n",
        "print(\"Shape of x after selection: \", x.shape)\n",
        "print(\"\\n\", x)\n"
      ]
    },
    {
      "cell_type": "code",
      "execution_count": null,
      "metadata": {
        "colab": {
          "base_uri": "https://localhost:8080/"
        },
        "id": "3iE2W3kN1DTS",
        "outputId": "784dddd8-1f0a-49c0-b871-b63bb6c74b15"
      },
      "outputs": [
        {
          "name": "stdout",
          "output_type": "stream",
          "text": [
            "\n",
            "Selected features: \n",
            "['1553635_s_at', '1557636_a_at', '1568612_at', '203001_s_at', '206135_at', '206282_at', '206502_s_at', '210016_at', '210033_s_at', '221805_at', '227242_s_at', '229012_at', '231077_at', '231731_at', '236085_at', '237282_s_at', '240065_at', '242128_at', '242162_at', '244118_at']\n",
            "\n",
            "\n",
            "     1553635_s_at  1557636_a_at  1568612_at  203001_s_at  206135_at  \\\n",
            "0       10.724790      7.979947    4.611667     6.176408   5.115718   \n",
            "1        9.349552      6.454717    3.919323     8.043318   6.787502   \n",
            "2        9.631134      8.079290    3.903473     6.977734   4.522126   \n",
            "3       11.010364      9.757430    8.223931     9.552097   4.452334   \n",
            "4        9.862121      8.762606    3.816280     7.255989   5.292506   \n",
            "..            ...           ...         ...          ...        ...   \n",
            "125      5.139725      4.153775    5.061523     7.345922   5.450018   \n",
            "126      5.462156      3.981230    4.093496    10.998515   5.555544   \n",
            "127      5.541498      4.800144    3.917375     9.580355   5.920887   \n",
            "128      5.029864      3.152037    4.315645     6.933193   5.394425   \n",
            "129      4.940768      4.084264    3.904253     5.958846   4.546151   \n",
            "\n",
            "     206282_at  206502_s_at  210016_at  210033_s_at  221805_at  227242_s_at  \\\n",
            "0     4.703441     5.621846   4.785396    12.035224   3.468729     4.507296   \n",
            "1     7.746709     8.566359   4.902029    10.802934   3.906425     4.297102   \n",
            "2     4.657636     5.382950   4.701786    11.047207   4.159132     3.848273   \n",
            "3     4.341054     5.177328   7.854968    12.331341   8.514866     4.172138   \n",
            "4     5.531218     9.941073   4.574718     5.595262   3.906560     4.283883   \n",
            "..         ...          ...        ...          ...        ...          ...   \n",
            "125   4.741252     7.130270   4.406890     4.759140   6.256974     3.848734   \n",
            "126   4.452515     9.589010   4.676048     4.836514   9.226216     7.583306   \n",
            "127   4.101075     4.665680   5.793344     4.851882   3.773701     3.520831   \n",
            "128   3.989934     4.964125   7.379886     4.790119   3.775679     3.472822   \n",
            "129   4.240338     4.618703   8.261171     5.067720   4.565057     3.693050   \n",
            "\n",
            "     229012_at  231077_at  231731_at  236085_at  237282_s_at  240065_at  \\\n",
            "0    12.775405  12.150120   4.318966  12.065463     8.915969  11.033385   \n",
            "1     9.584759  10.199452   4.490734   8.097641     5.885868   9.531044   \n",
            "2    10.411845  10.053591   4.640889   8.268891     4.631190  10.456710   \n",
            "3    13.141350  12.340554   4.225679   9.134736     8.152146  10.652081   \n",
            "4    11.136128  11.785825  10.364842   9.649890     7.743949   8.037306   \n",
            "..         ...        ...        ...        ...          ...        ...   \n",
            "125   5.226487   6.694182   5.112601   4.515808     3.504561   4.425884   \n",
            "126   6.447395   7.144804   4.756876   5.599367     3.814324   5.767932   \n",
            "127   5.767721   6.135126   4.939261   4.293121     3.631490   4.956126   \n",
            "128   5.528343   6.168154   4.735222   4.627904     3.616340   4.442179   \n",
            "129   5.494114   6.198824   4.543146   4.250562     3.590497   4.349217   \n",
            "\n",
            "     242128_at  242162_at  244118_at  \n",
            "0     4.173756  10.358130   3.642680  \n",
            "1     3.603069   9.256847   3.570117  \n",
            "2     3.672538   8.804539   3.666972  \n",
            "3     3.850587  11.516331   5.722737  \n",
            "4    11.178197  10.219545   3.306590  \n",
            "..         ...        ...        ...  \n",
            "125   6.639054   5.045420   3.650466  \n",
            "126   3.657743   6.037075   3.628093  \n",
            "127   4.230603   5.930358   3.749963  \n",
            "128   3.551560   5.134327   3.689673  \n",
            "129   3.782642   5.123375   3.834892  \n",
            "\n",
            "[130 rows x 20 columns]\n"
          ]
        }
      ],
      "source": [
        "# Get most important features accorting to Kbest\n",
        "\n",
        "cols_index = selector.get_support(indices=True)\n",
        "most_important_features = []\n",
        "\n",
        "print(\"\\nSelected features: \")\n",
        "for col in cols_index:\n",
        "  most_important_features.append(str(feature_cols[col]))\n",
        "print(most_important_features)\n",
        "\n",
        "print(\"\\n\")\n",
        "print(dataset[most_important_features])"
      ]
    },
    {
      "cell_type": "code",
      "execution_count": null,
      "metadata": {
        "colab": {
          "base_uri": "https://localhost:8080/"
        },
        "id": "Zg2zSyebRXhy",
        "outputId": "683e2b22-f46c-492b-aebe-e5550e16221f"
      },
      "outputs": [
        {
          "name": "stdout",
          "output_type": "stream",
          "text": [
            "training set size: 117\n",
            "testing set size: 13\n"
          ]
        }
      ],
      "source": [
        "X_train, X_test, y_train, y_test = train_test_split(\n",
        "    x, y, test_size=0.10)\n",
        "\n",
        "print(f\"training set size: {X_train.shape[0]}\")\n",
        "print(f\"testing set size: {X_test.shape[0]}\")"
      ]
    },
    {
      "cell_type": "code",
      "execution_count": null,
      "metadata": {
        "colab": {
          "base_uri": "https://localhost:8080/"
        },
        "id": "-qqEUSzNOf4k",
        "outputId": "fcbd883b-c68a-4258-d1d2-24843c846e6c"
      },
      "outputs": [
        {
          "name": "stdout",
          "output_type": "stream",
          "text": [
            "Running time for sklearn training is 0.03444933891296387 seconds\n",
            "Running time for sklearn prediction is 0.0003514289855957031 seconds\n",
            "Running time for quantized plaintext training is 0.08134865760803223 seconds\n",
            "Running time for quantized plaintext prediction is 0.0006165504455566406 seconds\n",
            "\n",
            " Logistic Regression Results \n",
            "\n",
            "Sklearn accuracy: 84.6154\n",
            "Quantized Clear Accuracy: 84.6154\n",
            "Sklearn Balanced accuracy: 76.0000\n",
            "Quantized Clear Balanced Accuracy: 76.0000\n",
            "Sklearn F1 Score: 85.4701\n",
            "Quantized Clear F1 Score: 85.4701\n"
          ]
        }
      ],
      "source": [
        "# Logistic Regression\n",
        "skmodel_LR = skLR(class_weight='balanced')\n",
        "start_time = time.time()\n",
        "skmodel_LR.fit(X_train,y_train)\n",
        "print(f\"Running time for sklearn training is {time.time() - start_time} seconds\")\n",
        "start_time = time.time()\n",
        "y_pred_clear_LR = skmodel_LR.predict(X_test)\n",
        "print(f\"Running time for sklearn prediction is {time.time() - start_time} seconds\")\n",
        "\n",
        "\n",
        "quant_LR = LogisticRegression(class_weight='balanced')\n",
        "start_time = time.time()\n",
        "quant_LR.fit(X_train, y_train)\n",
        "print(f\"Running time for quantized plaintext training is {time.time() - start_time} seconds\")\n",
        "start_time = time.time()\n",
        "y_pred_q_LR = quant_LR.predict(X_test)\n",
        "print(f\"Running time for quantized plaintext prediction is {time.time() - start_time} seconds\")\n",
        "\n",
        "print(\"\\n Logistic Regression Results \\n\")\n",
        "\n",
        "# Accuracy\n",
        "skLR_accuracy = accuracy_score(y_test, y_pred_clear_LR) * 100\n",
        "quantLR_accuracy = accuracy_score(y_test, y_pred_q_LR) * 100\n",
        "print(f\"Sklearn accuracy: {skLR_accuracy:.4f}\")\n",
        "print(f\"Quantized Clear Accuracy: {quantLR_accuracy:.4f}\")\n",
        "\n",
        "# Balanced Accuracy\n",
        "skLR_bal_accuracy = balanced_accuracy_score(y_test, y_pred_clear_LR) * 100\n",
        "quantLR_bal_accuracy = balanced_accuracy_score(y_test, y_pred_q_LR) * 100\n",
        "print(f\"Sklearn Balanced accuracy: {skLR_bal_accuracy:.4f}\")\n",
        "print(f\"Quantized Clear Balanced Accuracy: {quantLR_bal_accuracy:.4f}\")\n",
        "\n",
        "# F1 Score\n",
        "skLR_f1 = f1_score(y_test, y_pred_clear_LR, average='weighted') * 100\n",
        "quantLR_f1 = f1_score(y_test, y_pred_q_LR, average='weighted') * 100\n",
        "print(f\"Sklearn F1 Score: {skLR_f1:.4f}\")\n",
        "print(f\"Quantized Clear F1 Score: {quantLR_f1:.4f}\")"
      ]
    },
    {
      "cell_type": "code",
      "execution_count": null,
      "metadata": {
        "colab": {
          "base_uri": "https://localhost:8080/"
        },
        "id": "3FlQlTsNOxbt",
        "outputId": "290d3401-f1dc-40ce-ced2-96deb54ed82b"
      },
      "outputs": [
        {
          "name": "stdout",
          "output_type": "stream",
          "text": [
            "Running time for FHE compilation is 0.17476677894592285 seconds\n",
            "Running time for FHE prediction is 0.053858280181884766 seconds\n",
            "FHE Logistic Regression Results \n",
            "\n",
            "Accuracy: 84.6154\n",
            "Balanced accuracy: 76.0000\n",
            "F1 Score: 85.4701\n",
            "\n",
            "\n",
            "SKLEARN PREDICTION:\n",
            " [0 0 3 3 1 1 2 2 0 0 3 4 3]\n",
            "QUANTIZED CLEAR PREDICTION:\n",
            " [0 0 3 3 1 1 2 2 0 0 3 4 3]\n",
            "FHE PREDICTION:\n",
            " [0 0 3 3 1 1 2 2 0 0 3 4 3]\n",
            "ACTUAL:\n",
            " [0 0 3 3 1 4 2 2 0 0 3 0 3]\n",
            "\n",
            "\n",
            "Quantized vs FHE Comparison: 100% similar\n",
            "Sklearn vs FHE Comparison: 100% similar\n"
          ]
        }
      ],
      "source": [
        "# Logistic Regression FHE Model\n",
        "start_time = time.time()\n",
        "fhe_LR = quant_LR.compile(x)\n",
        "print(f\"Running time for FHE compilation is {time.time() - start_time} seconds\")\n",
        "start_time = time.time()\n",
        "y_pred_fhe_LR = quant_LR.predict(X_test, fhe='execute')\n",
        "print(f\"Running time for FHE prediction is {time.time() - start_time} seconds\")\n",
        "\n",
        "# Results for FHE Models\n",
        "\n",
        "print(\"FHE Logistic Regression Results \\n\")\n",
        "# Accuracy\n",
        "fheLR_accuracy = accuracy_score(y_test, y_pred_fhe_LR) * 100\n",
        "print(f\"Accuracy: {fheLR_accuracy:.4f}\")\n",
        "# Balanced Accuracy\n",
        "fheLR_bal_accuracy = balanced_accuracy_score(y_test, y_pred_fhe_LR) * 100\n",
        "print(f\"Balanced accuracy: {fheLR_bal_accuracy:.4f}\")\n",
        "# F1 Score\n",
        "fheLR_f1 = f1_score(y_test, y_pred_fhe_LR, average='weighted') * 100\n",
        "print(f\"F1 Score: {fheLR_f1:.4f}\")\n",
        "\n",
        "print(\"\\n\")\n",
        "print(\"SKLEARN PREDICTION:\\n\", y_pred_clear_LR)\n",
        "print(\"QUANTIZED CLEAR PREDICTION:\\n\", y_pred_q_LR)\n",
        "print(\"FHE PREDICTION:\\n\", y_pred_fhe_LR)\n",
        "print(\"ACTUAL:\\n\", y_test)\n",
        "\n",
        "print(\"\\n\")\n",
        "print(f\"Quantized vs FHE Comparison: {int((y_pred_fhe_LR == y_pred_q_LR).sum()/len(y_pred_fhe_LR)*100)}% similar\")\n",
        "print(f\"Sklearn vs FHE Comparison: {int((y_pred_fhe_LR == y_pred_clear_LR).sum()/len(y_pred_fhe_LR)*100)}% similar\")\n",
        "\n"
      ]
    },
    {
      "cell_type": "code",
      "execution_count": null,
      "metadata": {
        "colab": {
          "base_uri": "https://localhost:8080/",
          "height": 1000
        },
        "id": "oJB9grb7-eWw",
        "outputId": "7a915330-d5be-4646-ae58-f73f4e122804"
      },
      "outputs": [
        {
          "name": "stdout",
          "output_type": "stream",
          "text": [
            "***Note: The diagonal elements are the correctly predicted samples. ***\n",
            "Confusion matrix for SKLearn Plaintext: \n"
          ]
        },
        {
          "data": {
            "image/png": "[encoded data removed]",
            "text/plain": [
              "<Figure size 640x480 with 2 Axes>"
            ]
          },
          "metadata": {},
          "output_type": "display_data"
        },
        {
          "name": "stdout",
          "output_type": "stream",
          "text": [
            "Confusion matrix for Quantized Plaintext: \n"
          ]
        },
        {
          "data": {
            "image/png": "[encoded data removed]",
            "text/plain": [
              "<Figure size 640x480 with 2 Axes>"
            ]
          },
          "metadata": {},
          "output_type": "display_data"
        },
        {
          "name": "stdout",
          "output_type": "stream",
          "text": [
            "Confusion matrix for FHE: \n"
          ]
        },
        {
          "data": {
            "image/png": "[encoded data removed]",
            "text/plain": [
              "<Figure size 640x480 with 2 Axes>"
            ]
          },
          "metadata": {},
          "output_type": "display_data"
        },
        {
          "name": "stdout",
          "output_type": "stream",
          "text": [
            "Running time is 1.4003572463989258 seconds\n"
          ]
        }
      ],
      "source": [
        "start_time = time.time()\n",
        "import matplotlib.pyplot as plt\n",
        "from sklearn.metrics import confusion_matrix, ConfusionMatrixDisplay\n",
        "\n",
        "print(\"***Note: The diagonal elements are the correctly predicted samples. ***\")\n",
        "\n",
        "#use the scikit-learn classes because we use the same class naman\n",
        "\n",
        "print(\"Confusion matrix for SKLearn Plaintext: \")\n",
        "sklearn_cm_display = ConfusionMatrixDisplay(confusion_matrix(y_test, y_pred_clear_LR), display_labels=le.classes_)\n",
        "sklearn_cm_display.plot()\n",
        "plt.show()\n",
        "\n",
        "print(\"Confusion matrix for Quantized Plaintext: \")\n",
        "concrete_plain_display = ConfusionMatrixDisplay(confusion_matrix(y_test, y_pred_q_LR), display_labels=le.classes_)\n",
        "concrete_plain_display.plot()\n",
        "plt.show()\n",
        "\n",
        "print(\"Confusion matrix for FHE: \")\n",
        "concrete_fhe_display = ConfusionMatrixDisplay(confusion_matrix(y_test, y_pred_fhe_LR), display_labels=le.classes_)\n",
        "concrete_fhe_display.plot()\n",
        "plt.show()\n",
        "\n",
        "print(f\"Running time is {time.time() - start_time} seconds\")"
      ]
    },
    {
      "cell_type": "code",
      "execution_count": null,
      "metadata": {
        "colab": {
          "base_uri": "https://localhost:8080/"
        },
        "id": "o-fbjXhUVr1Y",
        "outputId": "126dc681-4caa-4e0c-c973-697fe088692e"
      },
      "outputs": [
        {
          "name": "stdout",
          "output_type": "stream",
          "text": [
            "Running time for Sklearn inference of ependymoma_sample is 0.00041484832763671875 seconds\n",
            "Running time for Sklearn inference of glioblastoma_sample is 0.00026607513427734375 seconds\n",
            "Running time for Sklearn inference of medulloblastoma_sample is 0.000240325927734375 seconds\n",
            "Running time for Sklearn inference of normal_sample is 0.0002491474151611328 seconds\n",
            "Running time for Sklearn inference of pilocytic_astrocytoma_sample is 0.00022220611572265625 seconds\n",
            "Average running time of Sklearn inference for each class is 0.0002785205841064453 seconds\n"
          ]
        }
      ],
      "source": [
        "ependymoma_sample = dataset[dataset['samples'] == 879][most_important_features].to_numpy(dtype=\"uint16\")\n",
        "glioblastoma_sample = dataset[dataset['samples'] == 913][most_important_features].to_numpy(dtype=\"uint16\")\n",
        "medulloblastoma_sample = dataset[dataset['samples'] == 935][most_important_features].to_numpy(dtype=\"uint16\")\n",
        "normal_sample = dataset[dataset['samples'] == 948][most_important_features].to_numpy(dtype=\"uint16\")\n",
        "pilocytic_astrocytoma_sample = dataset[dataset['samples'] == 963][most_important_features].to_numpy(dtype=\"uint16\")\n",
        "\n",
        "# Sklearn Inference Time\n",
        "\n",
        "average = 0\n",
        "\n",
        "start_time = time.time()\n",
        "skmodel_LR.predict(ependymoma_sample)\n",
        "end_time = time.time()\n",
        "print(f\"Running time for Sklearn inference of ependymoma_sample is {end_time - start_time} seconds\")\n",
        "\n",
        "average += end_time - start_time\n",
        "\n",
        "start_time = time.time()\n",
        "skmodel_LR.predict(glioblastoma_sample)\n",
        "end_time = time.time()\n",
        "print(f\"Running time for Sklearn inference of glioblastoma_sample is {end_time - start_time} seconds\")\n",
        "\n",
        "average += end_time - start_time\n",
        "\n",
        "start_time = time.time()\n",
        "skmodel_LR.predict(medulloblastoma_sample)\n",
        "end_time = time.time()\n",
        "print(f\"Running time for Sklearn inference of medulloblastoma_sample is {end_time - start_time} seconds\")\n",
        "\n",
        "average += end_time - start_time\n",
        "\n",
        "start_time = time.time()\n",
        "skmodel_LR.predict(normal_sample)\n",
        "end_time = time.time()\n",
        "print(f\"Running time for Sklearn inference of normal_sample is {end_time - start_time} seconds\")\n",
        "\n",
        "average += end_time - start_time\n",
        "\n",
        "start_time = time.time()\n",
        "skmodel_LR.predict(pilocytic_astrocytoma_sample)\n",
        "end_time = time.time()\n",
        "print(f\"Running time for Sklearn inference of pilocytic_astrocytoma_sample is {end_time - start_time} seconds\")\n",
        "\n",
        "average += end_time - start_time\n",
        "\n",
        "average /= 5\n",
        "\n",
        "print(f\"Average running time of Sklearn inference for each class is {average} seconds\")"
      ]
    },
    {
      "cell_type": "code",
      "execution_count": null,
      "metadata": {
        "colab": {
          "base_uri": "https://localhost:8080/"
        },
        "id": "-9653FBWmot_",
        "outputId": "65659e79-a948-4b3a-c7f3-4c71e9c60ae1"
      },
      "outputs": [
        {
          "name": "stdout",
          "output_type": "stream",
          "text": [
            "Running time for quantized plaintext inference of ependymoma_sample is 0.0008723735809326172 seconds\n",
            "Running time for quantized plaintext inference of glioblastoma_sample is 0.0005033016204833984 seconds\n",
            "Running time for quantized plaintext inference of medulloblastoma_sample is 0.0004138946533203125 seconds\n",
            "Running time for quantized plaintext inference of normal_sample is 0.0003705024719238281 seconds\n",
            "Running time for quantized plaintext inference of pilocytic_astrocytoma_sample is 0.0003590583801269531 seconds\n",
            "Average running time of quantized plaintext inference for each class is 0.0005038261413574218 seconds\n"
          ]
        }
      ],
      "source": [
        "# Quantized Plaintext Inference Time\n",
        "\n",
        "average = 0\n",
        "\n",
        "start_time = time.time()\n",
        "quant_LR.predict(ependymoma_sample)\n",
        "end_time = time.time()\n",
        "print(f\"Running time for quantized plaintext inference of ependymoma_sample is {end_time - start_time} seconds\")\n",
        "\n",
        "average += end_time - start_time\n",
        "\n",
        "start_time = time.time()\n",
        "quant_LR.predict(glioblastoma_sample)\n",
        "end_time = time.time()\n",
        "print(f\"Running time for quantized plaintext inference of glioblastoma_sample is {end_time - start_time} seconds\")\n",
        "\n",
        "average += end_time - start_time\n",
        "\n",
        "start_time = time.time()\n",
        "quant_LR.predict(medulloblastoma_sample)\n",
        "end_time = time.time()\n",
        "print(f\"Running time for quantized plaintext inference of medulloblastoma_sample is {end_time - start_time} seconds\")\n",
        "\n",
        "average += end_time - start_time\n",
        "\n",
        "start_time = time.time()\n",
        "quant_LR.predict(normal_sample)\n",
        "end_time = time.time()\n",
        "print(f\"Running time for quantized plaintext inference of normal_sample is {end_time - start_time} seconds\")\n",
        "\n",
        "average += end_time - start_time\n",
        "\n",
        "start_time = time.time()\n",
        "quant_LR.predict(pilocytic_astrocytoma_sample)\n",
        "end_time = time.time()\n",
        "print(f\"Running time for quantized plaintext inference of pilocytic_astrocytoma_sample is {end_time - start_time} seconds\")\n",
        "\n",
        "average += end_time - start_time\n",
        "\n",
        "average /= 5\n",
        "\n",
        "print(f\"Average running time of quantized plaintext inference for each class is {average} seconds\")"
      ]
    },
    {
      "cell_type": "code",
      "execution_count": null,
      "metadata": {
        "colab": {
          "base_uri": "https://localhost:8080/"
        },
        "id": "ueZoqN7fVGgC",
        "outputId": "4f23b6ec-3e2f-4be2-d634-d8324e87f97e"
      },
      "outputs": [
        {
          "name": "stdout",
          "output_type": "stream",
          "text": [
            "Running time for FHE inference of ependymoma_sample is 0.005860567092895508 seconds\n",
            "Running time for FHE inference of glioblastoma_sample is 0.004251241683959961 seconds\n",
            "Running time for FHE inference of medulloblastoma_sample is 0.004015684127807617 seconds\n",
            "Running time for FHE inference of normal_sample is 0.003979206085205078 seconds\n",
            "Running time for FHE inference of pilocytic_astrocytoma_sample is 0.007193326950073242 seconds\n",
            "Average running time of FHE inference for each class is 0.005060005187988281 seconds\n"
          ]
        }
      ],
      "source": [
        "# FHE Inference Time\n",
        "\n",
        "average = 0\n",
        "\n",
        "start_time = time.time()\n",
        "quant_LR.predict(ependymoma_sample, fhe=\"execute\")\n",
        "end_time = time.time()\n",
        "print(f\"Running time for FHE inference of ependymoma_sample is {end_time - start_time} seconds\")\n",
        "\n",
        "average += end_time - start_time\n",
        "\n",
        "start_time = time.time()\n",
        "quant_LR.predict(glioblastoma_sample, fhe=\"execute\")\n",
        "end_time = time.time()\n",
        "print(f\"Running time for FHE inference of glioblastoma_sample is {end_time - start_time} seconds\")\n",
        "\n",
        "average += end_time - start_time\n",
        "\n",
        "start_time = time.time()\n",
        "quant_LR.predict(medulloblastoma_sample, fhe=\"execute\")\n",
        "end_time = time.time()\n",
        "print(f\"Running time for FHE inference of medulloblastoma_sample is {end_time - start_time} seconds\")\n",
        "\n",
        "average += end_time - start_time\n",
        "\n",
        "start_time = time.time()\n",
        "quant_LR.predict(normal_sample, fhe=\"execute\")\n",
        "end_time = time.time()\n",
        "print(f\"Running time for FHE inference of normal_sample is {end_time - start_time} seconds\")\n",
        "\n",
        "average += end_time - start_time\n",
        "\n",
        "start_time = time.time()\n",
        "quant_LR.predict(pilocytic_astrocytoma_sample, fhe=\"execute\")\n",
        "end_time = time.time()\n",
        "print(f\"Running time for FHE inference of pilocytic_astrocytoma_sample is {end_time - start_time} seconds\")\n",
        "\n",
        "average += end_time - start_time\n",
        "\n",
        "average /= 5\n",
        "\n",
        "print(f\"Average running time of FHE inference for each class is {average} seconds\")"
      ]
    },
    {
      "cell_type": "code",
      "execution_count": null,
      "metadata": {
        "colab": {
          "base_uri": "https://localhost:8080/"
        },
        "id": "PeS0pXiNKBnV",
        "outputId": "0d387f31-e87f-4427-912a-2b5a9a3c7245"
      },
      "outputs": [
        {
          "name": "stdout",
          "output_type": "stream",
          "text": [
            "Running time for saving the FHE model is 0.6829214096069336 seconds\n"
          ]
        }
      ],
      "source": [
        "#Attempting to save the model\n",
        "from concrete.ml.deployment import FHEModelClient, FHEModelDev, FHEModelServer\n",
        "\n",
        "start_time = time.time()\n",
        "\n",
        "fhemodel_dev = FHEModelDev(\"gdrive/MyDrive/Special-Problem-Colab/Brain-Tumor-Models/Final-Models/LR-1\", quant_LR)\n",
        "fhemodel_dev.save()\n",
        "\n",
        "print(f\"Running time for saving the FHE model is {time.time() - start_time} seconds\")"
      ]
    }
  ],
  "metadata": {
    "colab": {
      "provenance": []
    },
    "kernelspec": {
      "display_name": "Python 3",
      "name": "python3"
    },
    "language_info": {
      "name": "python"
    }
  },
  "nbformat": 4,
  "nbformat_minor": 0
}
